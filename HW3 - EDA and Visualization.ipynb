{
 "cells": [
  {
   "cell_type": "markdown",
   "metadata": {},
   "source": [
    "# HW3 - Exploratory Data Analysis, Visualization, Hypothesis Testing"
   ]
  },
  {
   "cell_type": "markdown",
   "metadata": {},
   "source": [
    "In this homework, we are going to pick up exactly where we left off last time. "
   ]
  },
  {
   "cell_type": "code",
   "execution_count": null,
   "metadata": {},
   "outputs": [],
   "source": [
    "import pandas as pd\n",
    "import matplotlib.pyplot as plt\n",
    "import seaborn as sns\n",
    "import numpy as np\n",
    "%matplotlib inline"
   ]
  },
  {
   "cell_type": "markdown",
   "metadata": {},
   "source": [
    "In this assignment, we will be using the same diabetes dataset as before. Just like last time, create a data folder and place the data inside. Add a `.gitignore` file just like last time to prevent yourself from committing the file:"
   ]
  },
  {
   "cell_type": "code",
   "execution_count": null,
   "metadata": {
    "scrolled": false
   },
   "outputs": [],
   "source": [
    "diabetes_df = pd.read_csv('./data/diabetic_data.csv')"
   ]
  },
  {
   "cell_type": "markdown",
   "metadata": {},
   "source": [
    "# Finding outliers"
   ]
  },
  {
   "cell_type": "markdown",
   "metadata": {},
   "source": [
    "During exploratory data analysis, it is generally important to find out if there are any outliers in the data. Outliers can greatly affect certain estimates such as means and standard deviations. In addition, certain types of statistical models do not work well in the presence of outliers.\n",
    "\n",
    "The statistical way of defining an outlier is generally to see whether it falls outside of the following range:\n",
    "\n",
    "$$(Q_1 - 1.5 * IQR, Q_3 + 1.5 * IQR)$$,\n",
    "\n",
    "where $Q_1$ is the 25th percentile, $Q_3$ is the 75th percentile, and the $IQR$ is the difference between them. "
   ]
  },
  {
   "cell_type": "markdown",
   "metadata": {},
   "source": [
    "The columns that you will be working with for the following exercise are as follows:\n",
    "\n",
    " * `num_lab_procedures`\n",
    " * `num_procedures`\n",
    " * `num_medications`\n",
    " * `number_outpatient`\n",
    " * `number_emergency`\n",
    " * `number_inpatient`\n",
    " * `number_diagnoses`"
   ]
  },
  {
   "cell_type": "markdown",
   "metadata": {},
   "source": [
    "## For each of the above columns, plot a histogram of the values [5 pts]\n",
    "\n",
    "You can use any method that you would like"
   ]
  },
  {
   "cell_type": "markdown",
   "metadata": {},
   "source": [
    "## Find the encounter ids which are outliers in each of the columns listed above [15 pts]\n",
    "\n",
    "> In order to do this, first compute the bounds for outliers as noted above for each of the columns necessary. Then, find the `encounter_id`s which have outlier values for each column and display them.\n"
   ]
  },
  {
   "cell_type": "markdown",
   "metadata": {},
   "source": [
    "## Using the `seaborn.catplot` function, create a plot according to the following specifications:\n",
    "\n",
    " * Each of the columns listed above should be a subplot\n",
    " * For each, you should plot a boxplot\n",
    " * Each row of subplots should have 2 plots (except for the last one, since there are an odd number of plots)\n",
    " * Each row should not share a y-axis\n",
    " \n",
    "You can find the documentation for the catplot function [here](https://seaborn.pydata.org/generated/seaborn.catplot.html#seaborn.catplot)"
   ]
  },
  {
   "cell_type": "markdown",
   "metadata": {},
   "source": [
    "#### Create a subset of the diabetes dataframe that just contains those columns [2.5]"
   ]
  },
  {
   "cell_type": "markdown",
   "metadata": {},
   "source": [
    "#### Currently, the dataframe is in wide-form. Instead, change the dataframe so that the category name is in one column, and all the values are stacked in another (melted) [7.5]"
   ]
  },
  {
   "cell_type": "markdown",
   "metadata": {},
   "source": [
    "#### Use the catplot function to plot the graph. Make sure to adhere to each of the conditions listed above [10]"
   ]
  },
  {
   "cell_type": "markdown",
   "metadata": {},
   "source": [
    "## Making cosmetic changes and Checking the boxplot outlier implementation:\n",
    "\n",
    "The *whiskers* of a boxplot often extend to the bounds for outliers. However, some boxplot implementations choose other bounds for the whiskers, such as the maximum and minimum values, or a set percentile (10th, 90th, etc). In this next step, you will utilize `matplotlib`'s `Axes` objects to change the subplots in some way."
   ]
  },
  {
   "cell_type": "markdown",
   "metadata": {},
   "source": [
    "Recall that Seaborn (and many other plotting libraries) are built off of `matplotlib` objects. Therefore, you can always modify these plots with all of the custom functions that are available in `matplotlib`'s interface. To access the `Axes` objects of your plot, save your plot to a variable, and call \n",
    "\n",
    "`variable.axes`"
   ]
  },
  {
   "cell_type": "markdown",
   "metadata": {},
   "source": [
    "You should see an array of `Axes` objects appear. These will be objects that you set attributes of in order to modify your plots.\n"
   ]
  },
  {
   "cell_type": "markdown",
   "metadata": {},
   "source": [
    "\n",
    "Note: You may have to copy your plot code from above into another cell because of the way jupyter handles plots."
   ]
  },
  {
   "cell_type": "markdown",
   "metadata": {},
   "source": [
    "### Clean up the titles for each graph so that they are either the name of the columns or a cleaner representation [10 pts]\n"
   ]
  },
  {
   "cell_type": "markdown",
   "metadata": {},
   "source": [
    "For example, rather than `variable = number_emergency`, you can set it to `number_emergency`, or `Number of Emergency Visits`."
   ]
  },
  {
   "cell_type": "markdown",
   "metadata": {},
   "source": [
    "you can do this by accessing the `Axes`, and using `set(title =)`. "
   ]
  },
  {
   "cell_type": "markdown",
   "metadata": {},
   "source": [
    "### Add dotted lines at each of the upper and lower outlier bounds. Pick a non-default color and linestyle of your choice for these [10 pts]"
   ]
  },
  {
   "cell_type": "markdown",
   "metadata": {},
   "source": [
    "To check if seaborn boxplots use the same outlier method for determining the bound of the whiskers, add a dotted line at the upper and lower bound of each of these columns with a non-default color and linestyle and see if they line up with the seaborn boxplot whiskers"
   ]
  },
  {
   "cell_type": "markdown",
   "metadata": {},
   "source": [
    "# Hypothesis testing"
   ]
  },
  {
   "cell_type": "markdown",
   "metadata": {},
   "source": [
    "In the [paper that produced the dataset](https://www.hindawi.com/journals/bmri/2014/781670/), the authors perform a series of hypothesis tests. However, as is common in the literature, they often do not provide confidence intervals or explain which hypothesis tests were performed. Here, we want to reproduce the results of the paper, but to generate confidence intervals so we have a better sense of the uncertainty behind their results."
   ]
  },
  {
   "cell_type": "markdown",
   "metadata": {},
   "source": [
    "### Test: \n",
    "\n",
    "> When an HbA1c was not obtained, 42.5% of patients had a medication change during the hospitalization, whereas those providers who ordered the test appear to have been somewhat more responsive as determined by changes in medication (55.0%, P < 0.001)."
   ]
  },
  {
   "cell_type": "markdown",
   "metadata": {},
   "source": [
    "Here, we can represent this statement as the following hyptothesis test:\n",
    "\n",
    "$$ H_0: p_1 = p_2 $$\n",
    "$$ H_1: p_1 \\neq p_2 $$\n",
    "\n",
    "Equivalently:\n",
    "\n",
    "$$ H_0: p_1 - p_2 = 0$$\n",
    "$$ H_1: p_1 - p_2 \\neq 0$$\n"
   ]
  },
  {
   "cell_type": "markdown",
   "metadata": {},
   "source": [
    "where p is the probability that a provider changed the medication (given by the `change` column)"
   ]
  },
  {
   "cell_type": "markdown",
   "metadata": {},
   "source": [
    "In order to test the equality of two proportions, the Z-test for 2 proportions is often used. In this setting, the test statistic is distributed according to the standard normal distribution: N(0, 1)"
   ]
  },
  {
   "cell_type": "markdown",
   "metadata": {},
   "source": [
    "$$ Z_t = \\frac{\\hat{p_1} - \\hat{p_2}}{\\hat{\\sigma_D}} $$"
   ]
  },
  {
   "cell_type": "markdown",
   "metadata": {},
   "source": [
    "Here, $\\hat{p_1}$ and $\\hat{p_2}$ are the observed proportions of a provider changing a medication."
   ]
  },
  {
   "cell_type": "markdown",
   "metadata": {},
   "source": [
    "Here, we will assume that the two populations have the same variance, meaning we can use what is known as a *pooled standard error*. The details of this are outside the scope of this course. "
   ]
  },
  {
   "cell_type": "markdown",
   "metadata": {},
   "source": [
    "$$\\hat{p} = \\frac{n_1\\hat{p_1} + n_2\\hat{p_2}}{n_1 + n_2} $$\n",
    "\n",
    "$$\\hat{\\sigma_D} = \\sqrt{\\hat{p}(1-\\hat{p})(\\frac{1}{n_1} + \\frac{1}{n_2})}$$\n",
    "\n",
    "where $n_1$ and $n_2$ are the sample sizes for groups 1 and 2, respectively"
   ]
  },
  {
   "cell_type": "markdown",
   "metadata": {},
   "source": [
    "In this case, the assumptions for the test are as follows:\n",
    "\n",
    " * The two populations are independent\n",
    " * They are sampled at random\n",
    " * There is enough data such that\n",
    "     * $np > 10$\n",
    "     * $n(1-p) > 10$\n",
    "     \n",
    "which we can assume holds in this case."
   ]
  },
  {
   "cell_type": "markdown",
   "metadata": {},
   "source": [
    "Compute $\\hat{p_1}$ and $\\hat{p_2}$ by checking the proportion of the time that the `change` column is equal to `Ch` when the A1C column is *not* None ($\\hat{p_1}$) versus when it is None ($\\hat{p_2}$). You can use `pd.isnull()` to check where a column is missing. Note that the numbers may be slightly off of the numbers from the paper due to the way that they remove certain encounters"
   ]
  },
  {
   "cell_type": "markdown",
   "metadata": {},
   "source": [
    "#### Next, compute the value of the test statistic: [15 pts]"
   ]
  },
  {
   "cell_type": "markdown",
   "metadata": {},
   "source": [
    "Because the Z-statistic is distributed according to the standard Normal Distribution, we can find the p-value by using the `norm.cdf()` command. Remember, the p-value is just the probability that we would see a test-statistic as extreme or more extreme given that the null hypothesis was true.\n",
    "\n",
    "Because our alternative hypothesis is 2-sided, we can compute the p-value as follows:\n",
    "\n",
    "`norm.cdf(z) * 2`\n",
    "\n",
    "This is because we allow for our test statistic to be either greater than OR less than the critical values."
   ]
  },
  {
   "cell_type": "markdown",
   "metadata": {},
   "source": [
    "#### Compute the p-value [10 pts]"
   ]
  },
  {
   "cell_type": "markdown",
   "metadata": {},
   "source": [
    "#### Verify using the following method that your test statistic and p-value match [5 pts]"
   ]
  },
  {
   "cell_type": "code",
   "execution_count": null,
   "metadata": {},
   "outputs": [],
   "source": [
    "import statsmodels.api as sm\n",
    "z_score, p_value = sm.stats.proportions_ztest() # fill in the code here:\n",
    "# Resource: http://knowledgetack.com/python/statsmodels/proportions_ztest/"
   ]
  },
  {
   "cell_type": "markdown",
   "metadata": {},
   "source": [
    "#### An aside:\n",
    "\n",
    "To find the value of the test statistic that would give us exactly 0.05 significance, we can use:\n",
    "\n",
    "`normQuantile(0.025)`\n",
    "and\n",
    "`normQuantile(0.975)`\n",
    "\n",
    "(where the `normQuantile` function (which in scipy is `norm.ppf`) tells us what at what value the Cumulative Distribution Function is equal to the argument. The quantile function is the inverse of the Cumulative Distribution Function)\n",
    "\n",
    "\n",
    "As this gives us half of the 0.05 significance level on either side. \n",
    "\n",
    "For one sided tests, this would just be \n",
    "\n",
    "`normQuantile(0.05)` \n",
    "or\n",
    "`normQuantile(0.95)`\n",
    "depending on the direction of the alternative hypothesis"
   ]
  },
  {
   "cell_type": "markdown",
   "metadata": {},
   "source": [
    "### Confidence Interval"
   ]
  },
  {
   "cell_type": "markdown",
   "metadata": {},
   "source": [
    "Next, we're going to construct a confidence interval. The p-value just tells us that it is unlikely, given that the null hypothesis is true, that we would see data as extreme or more extreme than what we saw. In other words, if there were no difference in the way that physicians changed diabetes patients' medications depending on whether they tested for A1C or not, then it would be highly unlikely that we would see a pattern as extreme as we see in the data. "
   ]
  },
  {
   "cell_type": "markdown",
   "metadata": {},
   "source": [
    "However, this does not tell us *anything* about how different the values actually are. To generate a 95% confidence interval, we take the *observed* difference in proportions and construct it in the following way:"
   ]
  },
  {
   "cell_type": "markdown",
   "metadata": {},
   "source": [
    "$\\hat{p_1} - \\hat{p_2} \\pm Z_* \\sigma_D$\n",
    "\n",
    "Where $Z_*$ here is `normQuantile(0.975)` or `normQuantile(0.025)` (the only difference is the sign change)"
   ]
  },
  {
   "cell_type": "markdown",
   "metadata": {},
   "source": [
    "### Find the confidence interval for this test [10 pts]"
   ]
  },
  {
   "cell_type": "markdown",
   "metadata": {},
   "source": [
    "This tells us that in a specific example of this procedure being run, there is a 95% probability that the true difference between the means falls between the two bounds. Remember that this says nothing about whether the true difference is in these bounds or not!"
   ]
  }
 ],
 "metadata": {
  "kernelspec": {
   "display_name": "Python 3",
   "language": "python",
   "name": "python3"
  },
  "language_info": {
   "codemirror_mode": {
    "name": "ipython",
    "version": 3
   },
   "file_extension": ".py",
   "mimetype": "text/x-python",
   "name": "python",
   "nbconvert_exporter": "python",
   "pygments_lexer": "ipython3",
   "version": "3.7.0"
  }
 },
 "nbformat": 4,
 "nbformat_minor": 2
}
